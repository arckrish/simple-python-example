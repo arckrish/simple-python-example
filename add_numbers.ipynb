{
 "cells": [
  {
   "cell_type": "code",
   "execution_count": null,
   "id": "ae4ed8b4-3269-42cc-8a27-a5e922e13254",
   "metadata": {
    "tags": []
   },
   "outputs": [],
   "source": [
    "#To define a function that take two integers \n",
    "# and return the sum of those two numbers\n",
    "def add(a,b):\n",
    "  return a+b\n",
    "\n"
   ]
  },
  {
   "cell_type": "code",
   "execution_count": null,
   "id": "d56bd259-05a8-4070-84fd-781f23200a83",
   "metadata": {
    "tags": []
   },
   "outputs": [],
   "source": [
    "#initializing the variables\n",
    "num1 = 10\n",
    "num2 = 5\n",
    "\n"
   ]
  },
  {
   "cell_type": "code",
   "execution_count": null,
   "id": "02a4d1ab-fdcf-4f15-a0ec-9b100c01e676",
   "metadata": {
    "tags": []
   },
   "outputs": [],
   "source": [
    "#function calling and store the result into sum_of_twonumbers\n",
    "sum_of_twonumbers = add(num1,num2)\n",
    "\n"
   ]
  },
  {
   "cell_type": "code",
   "execution_count": null,
   "id": "05a9ab87-62eb-4e98-8ff9-5339cd4e9439",
   "metadata": {
    "tags": []
   },
   "outputs": [],
   "source": [
    "#To print the result\n",
    "print(\"Sum of {0} and {1} is {2};\" .format(num1,\n",
    "                           num2, sum_of_twonumbers))"
   ]
  },
  {
   "cell_type": "code",
   "execution_count": null,
   "id": "8a31afbc-efca-47d2-b50f-3729e3668426",
   "metadata": {},
   "outputs": [],
   "source": []
  }
 ],
 "metadata": {
  "kernelspec": {
   "display_name": "Python 3.9",
   "language": "python",
   "name": "python3"
  },
  "language_info": {
   "codemirror_mode": {
    "name": "ipython",
    "version": 3
   },
   "file_extension": ".py",
   "mimetype": "text/x-python",
   "name": "python",
   "nbconvert_exporter": "python",
   "pygments_lexer": "ipython3",
   "version": "3.9.16"
  }
 },
 "nbformat": 4,
 "nbformat_minor": 5
}
